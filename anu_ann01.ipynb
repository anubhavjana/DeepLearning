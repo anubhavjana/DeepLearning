{
  "cells": [
    {
      "metadata": {
        "trusted": true,
        "_uuid": "f3dac2aba8c08f814dc8d0dd5bbaa5a9f86cc138"
      },
      "cell_type": "code",
      "source": "",
      "execution_count": null,
      "outputs": []
    },
    {
      "metadata": {
        "_uuid": "8f2839f25d086af736a60e9eeb907d3b93b6e0e5",
        "_cell_guid": "b1076dfc-b9ad-4769-8c92-a6c4dae69d19",
        "trusted": true
      },
      "cell_type": "code",
      "source": "# This Python 3 environment comes with many helpful analytics libraries installed\n# It is defined by the kaggle/python docker image: https://github.com/kaggle/docker-python\n# For example, here's several helpful packages to load in \n\nimport numpy as np # linear algebra\nimport pandas as pd # data processing, CSV file I/O (e.g. pd.read_csv)\n\n# Input data files are available in the \"../input/\" directory.\n# For example, running this (by clicking run or pressing Shift+Enter) will list the files in the input directory\n\nimport os\nprint(os.listdir(\"../input\"))\n\n# Any results you write to the current directory are saved as output.",
      "execution_count": 1,
      "outputs": [
        {
          "output_type": "stream",
          "text": "['Business.csv']\n",
          "name": "stdout"
        }
      ]
    },
    {
      "metadata": {
        "_cell_guid": "79c7e3d0-c299-4dcb-8224-4455121ee9b0",
        "_uuid": "d629ff2d2480ee46fbb7e2d37f6b5fab8052498a",
        "trusted": true
      },
      "cell_type": "code",
      "source": "home_data=pd.read_csv('../input/Business.csv')\n",
      "execution_count": 2,
      "outputs": []
    },
    {
      "metadata": {
        "trusted": true,
        "_uuid": "5f65016b7770a0b865c7766848bec1f432792167"
      },
      "cell_type": "code",
      "source": "home_data",
      "execution_count": 3,
      "outputs": [
        {
          "output_type": "execute_result",
          "execution_count": 3,
          "data": {
            "text/plain": "      RowNumber  CustomerId   ...   EstimatedSalary  Exited\n0             1    15634602   ...         101348.88       1\n1             2    15647311   ...         112542.58       0\n2             3    15619304   ...         113931.57       1\n3             4    15701354   ...          93826.63       0\n4             5    15737888   ...          79084.10       0\n5             6    15574012   ...         149756.71       1\n6             7    15592531   ...          10062.80       0\n7             8    15656148   ...         119346.88       1\n8             9    15792365   ...          74940.50       0\n9            10    15592389   ...          71725.73       0\n10           11    15767821   ...          80181.12       0\n11           12    15737173   ...          76390.01       0\n12           13    15632264   ...          26260.98       0\n13           14    15691483   ...         190857.79       0\n14           15    15600882   ...          65951.65       0\n15           16    15643966   ...          64327.26       0\n16           17    15737452   ...           5097.67       1\n17           18    15788218   ...          14406.41       0\n18           19    15661507   ...         158684.81       0\n19           20    15568982   ...          54724.03       0\n20           21    15577657   ...         170886.17       0\n21           22    15597945   ...         138555.46       0\n22           23    15699309   ...         118913.53       1\n23           24    15725737   ...           8487.75       0\n24           25    15625047   ...         187616.16       0\n25           26    15738191   ...         124508.29       0\n26           27    15736816   ...         170041.95       0\n27           28    15700772   ...          38433.35       0\n28           29    15728693   ...         100187.43       0\n29           30    15656300   ...          53483.21       0\n...         ...         ...   ...               ...     ...\n9970       9971    15587133   ...         119377.36       0\n9971       9972    15721377   ...         166472.81       0\n9972       9973    15747927   ...         171552.02       0\n9973       9974    15806455   ...         157474.10       0\n9974       9975    15695474   ...          13549.24       0\n9975       9976    15666295   ...         196526.55       1\n9976       9977    15656062   ...          84419.78       0\n9977       9978    15579969   ...          24991.92       0\n9978       9979    15703563   ...         191608.97       0\n9979       9980    15692664   ...           2988.28       0\n9980       9981    15719276   ...          99595.67       0\n9981       9982    15672754   ...          53445.17       1\n9982       9983    15768163   ...         115146.40       1\n9983       9984    15656710   ...         151325.24       0\n9984       9985    15696175   ...          51695.41       0\n9985       9986    15586914   ...          96833.00       0\n9986       9987    15581736   ...          34047.54       0\n9987       9988    15588839   ...           1914.41       0\n9988       9989    15589329   ...          49337.84       0\n9989       9990    15605622   ...         179436.60       0\n9990       9991    15798964   ...          53667.08       0\n9991       9992    15769959   ...          69384.71       1\n9992       9993    15657105   ...         195192.40       0\n9993       9994    15569266   ...          29179.52       0\n9994       9995    15719294   ...         167773.55       0\n9995       9996    15606229   ...          96270.64       0\n9996       9997    15569892   ...         101699.77       0\n9997       9998    15584532   ...          42085.58       1\n9998       9999    15682355   ...          92888.52       1\n9999      10000    15628319   ...          38190.78       0\n\n[10000 rows x 14 columns]",
            "text/html": "<div>\n<style scoped>\n    .dataframe tbody tr th:only-of-type {\n        vertical-align: middle;\n    }\n\n    .dataframe tbody tr th {\n        vertical-align: top;\n    }\n\n    .dataframe thead th {\n        text-align: right;\n    }\n</style>\n<table border=\"1\" class=\"dataframe\">\n  <thead>\n    <tr style=\"text-align: right;\">\n      <th></th>\n      <th>RowNumber</th>\n      <th>CustomerId</th>\n      <th>Surname</th>\n      <th>CreditScore</th>\n      <th>Geography</th>\n      <th>Gender</th>\n      <th>Age</th>\n      <th>Tenure</th>\n      <th>Balance</th>\n      <th>NumOfProducts</th>\n      <th>HasCrCard</th>\n      <th>IsActiveMember</th>\n      <th>EstimatedSalary</th>\n      <th>Exited</th>\n    </tr>\n  </thead>\n  <tbody>\n    <tr>\n      <th>0</th>\n      <td>1</td>\n      <td>15634602</td>\n      <td>Hargrave</td>\n      <td>619</td>\n      <td>France</td>\n      <td>Female</td>\n      <td>42</td>\n      <td>2</td>\n      <td>0.00</td>\n      <td>1</td>\n      <td>1</td>\n      <td>1</td>\n      <td>101348.88</td>\n      <td>1</td>\n    </tr>\n    <tr>\n      <th>1</th>\n      <td>2</td>\n      <td>15647311</td>\n      <td>Hill</td>\n      <td>608</td>\n      <td>Spain</td>\n      <td>Female</td>\n      <td>41</td>\n      <td>1</td>\n      <td>83807.86</td>\n      <td>1</td>\n      <td>0</td>\n      <td>1</td>\n      <td>112542.58</td>\n      <td>0</td>\n    </tr>\n    <tr>\n      <th>2</th>\n      <td>3</td>\n      <td>15619304</td>\n      <td>Onio</td>\n      <td>502</td>\n      <td>France</td>\n      <td>Female</td>\n      <td>42</td>\n      <td>8</td>\n      <td>159660.80</td>\n      <td>3</td>\n      <td>1</td>\n      <td>0</td>\n      <td>113931.57</td>\n      <td>1</td>\n    </tr>\n    <tr>\n      <th>3</th>\n      <td>4</td>\n      <td>15701354</td>\n      <td>Boni</td>\n      <td>699</td>\n      <td>France</td>\n      <td>Female</td>\n      <td>39</td>\n      <td>1</td>\n      <td>0.00</td>\n      <td>2</td>\n      <td>0</td>\n      <td>0</td>\n      <td>93826.63</td>\n      <td>0</td>\n    </tr>\n    <tr>\n      <th>4</th>\n      <td>5</td>\n      <td>15737888</td>\n      <td>Mitchell</td>\n      <td>850</td>\n      <td>Spain</td>\n      <td>Female</td>\n      <td>43</td>\n      <td>2</td>\n      <td>125510.82</td>\n      <td>1</td>\n      <td>1</td>\n      <td>1</td>\n      <td>79084.10</td>\n      <td>0</td>\n    </tr>\n    <tr>\n      <th>5</th>\n      <td>6</td>\n      <td>15574012</td>\n      <td>Chu</td>\n      <td>645</td>\n      <td>Spain</td>\n      <td>Male</td>\n      <td>44</td>\n      <td>8</td>\n      <td>113755.78</td>\n      <td>2</td>\n      <td>1</td>\n      <td>0</td>\n      <td>149756.71</td>\n      <td>1</td>\n    </tr>\n    <tr>\n      <th>6</th>\n      <td>7</td>\n      <td>15592531</td>\n      <td>Bartlett</td>\n      <td>822</td>\n      <td>France</td>\n      <td>Male</td>\n      <td>50</td>\n      <td>7</td>\n      <td>0.00</td>\n      <td>2</td>\n      <td>1</td>\n      <td>1</td>\n      <td>10062.80</td>\n      <td>0</td>\n    </tr>\n    <tr>\n      <th>7</th>\n      <td>8</td>\n      <td>15656148</td>\n      <td>Obinna</td>\n      <td>376</td>\n      <td>Germany</td>\n      <td>Female</td>\n      <td>29</td>\n      <td>4</td>\n      <td>115046.74</td>\n      <td>4</td>\n      <td>1</td>\n      <td>0</td>\n      <td>119346.88</td>\n      <td>1</td>\n    </tr>\n    <tr>\n      <th>8</th>\n      <td>9</td>\n      <td>15792365</td>\n      <td>He</td>\n      <td>501</td>\n      <td>France</td>\n      <td>Male</td>\n      <td>44</td>\n      <td>4</td>\n      <td>142051.07</td>\n      <td>2</td>\n      <td>0</td>\n      <td>1</td>\n      <td>74940.50</td>\n      <td>0</td>\n    </tr>\n    <tr>\n      <th>9</th>\n      <td>10</td>\n      <td>15592389</td>\n      <td>H?</td>\n      <td>684</td>\n      <td>France</td>\n      <td>Male</td>\n      <td>27</td>\n      <td>2</td>\n      <td>134603.88</td>\n      <td>1</td>\n      <td>1</td>\n      <td>1</td>\n      <td>71725.73</td>\n      <td>0</td>\n    </tr>\n    <tr>\n      <th>10</th>\n      <td>11</td>\n      <td>15767821</td>\n      <td>Bearce</td>\n      <td>528</td>\n      <td>France</td>\n      <td>Male</td>\n      <td>31</td>\n      <td>6</td>\n      <td>102016.72</td>\n      <td>2</td>\n      <td>0</td>\n      <td>0</td>\n      <td>80181.12</td>\n      <td>0</td>\n    </tr>\n    <tr>\n      <th>11</th>\n      <td>12</td>\n      <td>15737173</td>\n      <td>Andrews</td>\n      <td>497</td>\n      <td>Spain</td>\n      <td>Male</td>\n      <td>24</td>\n      <td>3</td>\n      <td>0.00</td>\n      <td>2</td>\n      <td>1</td>\n      <td>0</td>\n      <td>76390.01</td>\n      <td>0</td>\n    </tr>\n    <tr>\n      <th>12</th>\n      <td>13</td>\n      <td>15632264</td>\n      <td>Kay</td>\n      <td>476</td>\n      <td>France</td>\n      <td>Female</td>\n      <td>34</td>\n      <td>10</td>\n      <td>0.00</td>\n      <td>2</td>\n      <td>1</td>\n      <td>0</td>\n      <td>26260.98</td>\n      <td>0</td>\n    </tr>\n    <tr>\n      <th>13</th>\n      <td>14</td>\n      <td>15691483</td>\n      <td>Chin</td>\n      <td>549</td>\n      <td>France</td>\n      <td>Female</td>\n      <td>25</td>\n      <td>5</td>\n      <td>0.00</td>\n      <td>2</td>\n      <td>0</td>\n      <td>0</td>\n      <td>190857.79</td>\n      <td>0</td>\n    </tr>\n    <tr>\n      <th>14</th>\n      <td>15</td>\n      <td>15600882</td>\n      <td>Scott</td>\n      <td>635</td>\n      <td>Spain</td>\n      <td>Female</td>\n      <td>35</td>\n      <td>7</td>\n      <td>0.00</td>\n      <td>2</td>\n      <td>1</td>\n      <td>1</td>\n      <td>65951.65</td>\n      <td>0</td>\n    </tr>\n    <tr>\n      <th>15</th>\n      <td>16</td>\n      <td>15643966</td>\n      <td>Goforth</td>\n      <td>616</td>\n      <td>Germany</td>\n      <td>Male</td>\n      <td>45</td>\n      <td>3</td>\n      <td>143129.41</td>\n      <td>2</td>\n      <td>0</td>\n      <td>1</td>\n      <td>64327.26</td>\n      <td>0</td>\n    </tr>\n    <tr>\n      <th>16</th>\n      <td>17</td>\n      <td>15737452</td>\n      <td>Romeo</td>\n      <td>653</td>\n      <td>Germany</td>\n      <td>Male</td>\n      <td>58</td>\n      <td>1</td>\n      <td>132602.88</td>\n      <td>1</td>\n      <td>1</td>\n      <td>0</td>\n      <td>5097.67</td>\n      <td>1</td>\n    </tr>\n    <tr>\n      <th>17</th>\n      <td>18</td>\n      <td>15788218</td>\n      <td>Henderson</td>\n      <td>549</td>\n      <td>Spain</td>\n      <td>Female</td>\n      <td>24</td>\n      <td>9</td>\n      <td>0.00</td>\n      <td>2</td>\n      <td>1</td>\n      <td>1</td>\n      <td>14406.41</td>\n      <td>0</td>\n    </tr>\n    <tr>\n      <th>18</th>\n      <td>19</td>\n      <td>15661507</td>\n      <td>Muldrow</td>\n      <td>587</td>\n      <td>Spain</td>\n      <td>Male</td>\n      <td>45</td>\n      <td>6</td>\n      <td>0.00</td>\n      <td>1</td>\n      <td>0</td>\n      <td>0</td>\n      <td>158684.81</td>\n      <td>0</td>\n    </tr>\n    <tr>\n      <th>19</th>\n      <td>20</td>\n      <td>15568982</td>\n      <td>Hao</td>\n      <td>726</td>\n      <td>France</td>\n      <td>Female</td>\n      <td>24</td>\n      <td>6</td>\n      <td>0.00</td>\n      <td>2</td>\n      <td>1</td>\n      <td>1</td>\n      <td>54724.03</td>\n      <td>0</td>\n    </tr>\n    <tr>\n      <th>20</th>\n      <td>21</td>\n      <td>15577657</td>\n      <td>McDonald</td>\n      <td>732</td>\n      <td>France</td>\n      <td>Male</td>\n      <td>41</td>\n      <td>8</td>\n      <td>0.00</td>\n      <td>2</td>\n      <td>1</td>\n      <td>1</td>\n      <td>170886.17</td>\n      <td>0</td>\n    </tr>\n    <tr>\n      <th>21</th>\n      <td>22</td>\n      <td>15597945</td>\n      <td>Dellucci</td>\n      <td>636</td>\n      <td>Spain</td>\n      <td>Female</td>\n      <td>32</td>\n      <td>8</td>\n      <td>0.00</td>\n      <td>2</td>\n      <td>1</td>\n      <td>0</td>\n      <td>138555.46</td>\n      <td>0</td>\n    </tr>\n    <tr>\n      <th>22</th>\n      <td>23</td>\n      <td>15699309</td>\n      <td>Gerasimov</td>\n      <td>510</td>\n      <td>Spain</td>\n      <td>Female</td>\n      <td>38</td>\n      <td>4</td>\n      <td>0.00</td>\n      <td>1</td>\n      <td>1</td>\n      <td>0</td>\n      <td>118913.53</td>\n      <td>1</td>\n    </tr>\n    <tr>\n      <th>23</th>\n      <td>24</td>\n      <td>15725737</td>\n      <td>Mosman</td>\n      <td>669</td>\n      <td>France</td>\n      <td>Male</td>\n      <td>46</td>\n      <td>3</td>\n      <td>0.00</td>\n      <td>2</td>\n      <td>0</td>\n      <td>1</td>\n      <td>8487.75</td>\n      <td>0</td>\n    </tr>\n    <tr>\n      <th>24</th>\n      <td>25</td>\n      <td>15625047</td>\n      <td>Yen</td>\n      <td>846</td>\n      <td>France</td>\n      <td>Female</td>\n      <td>38</td>\n      <td>5</td>\n      <td>0.00</td>\n      <td>1</td>\n      <td>1</td>\n      <td>1</td>\n      <td>187616.16</td>\n      <td>0</td>\n    </tr>\n    <tr>\n      <th>25</th>\n      <td>26</td>\n      <td>15738191</td>\n      <td>Maclean</td>\n      <td>577</td>\n      <td>France</td>\n      <td>Male</td>\n      <td>25</td>\n      <td>3</td>\n      <td>0.00</td>\n      <td>2</td>\n      <td>0</td>\n      <td>1</td>\n      <td>124508.29</td>\n      <td>0</td>\n    </tr>\n    <tr>\n      <th>26</th>\n      <td>27</td>\n      <td>15736816</td>\n      <td>Young</td>\n      <td>756</td>\n      <td>Germany</td>\n      <td>Male</td>\n      <td>36</td>\n      <td>2</td>\n      <td>136815.64</td>\n      <td>1</td>\n      <td>1</td>\n      <td>1</td>\n      <td>170041.95</td>\n      <td>0</td>\n    </tr>\n    <tr>\n      <th>27</th>\n      <td>28</td>\n      <td>15700772</td>\n      <td>Nebechi</td>\n      <td>571</td>\n      <td>France</td>\n      <td>Male</td>\n      <td>44</td>\n      <td>9</td>\n      <td>0.00</td>\n      <td>2</td>\n      <td>0</td>\n      <td>0</td>\n      <td>38433.35</td>\n      <td>0</td>\n    </tr>\n    <tr>\n      <th>28</th>\n      <td>29</td>\n      <td>15728693</td>\n      <td>McWilliams</td>\n      <td>574</td>\n      <td>Germany</td>\n      <td>Female</td>\n      <td>43</td>\n      <td>3</td>\n      <td>141349.43</td>\n      <td>1</td>\n      <td>1</td>\n      <td>1</td>\n      <td>100187.43</td>\n      <td>0</td>\n    </tr>\n    <tr>\n      <th>29</th>\n      <td>30</td>\n      <td>15656300</td>\n      <td>Lucciano</td>\n      <td>411</td>\n      <td>France</td>\n      <td>Male</td>\n      <td>29</td>\n      <td>0</td>\n      <td>59697.17</td>\n      <td>2</td>\n      <td>1</td>\n      <td>1</td>\n      <td>53483.21</td>\n      <td>0</td>\n    </tr>\n    <tr>\n      <th>...</th>\n      <td>...</td>\n      <td>...</td>\n      <td>...</td>\n      <td>...</td>\n      <td>...</td>\n      <td>...</td>\n      <td>...</td>\n      <td>...</td>\n      <td>...</td>\n      <td>...</td>\n      <td>...</td>\n      <td>...</td>\n      <td>...</td>\n      <td>...</td>\n    </tr>\n    <tr>\n      <th>9970</th>\n      <td>9971</td>\n      <td>15587133</td>\n      <td>Thompson</td>\n      <td>518</td>\n      <td>France</td>\n      <td>Male</td>\n      <td>42</td>\n      <td>7</td>\n      <td>151027.05</td>\n      <td>2</td>\n      <td>1</td>\n      <td>0</td>\n      <td>119377.36</td>\n      <td>0</td>\n    </tr>\n    <tr>\n      <th>9971</th>\n      <td>9972</td>\n      <td>15721377</td>\n      <td>Chou</td>\n      <td>833</td>\n      <td>France</td>\n      <td>Female</td>\n      <td>34</td>\n      <td>3</td>\n      <td>144751.81</td>\n      <td>1</td>\n      <td>0</td>\n      <td>0</td>\n      <td>166472.81</td>\n      <td>0</td>\n    </tr>\n    <tr>\n      <th>9972</th>\n      <td>9973</td>\n      <td>15747927</td>\n      <td>Ch'in</td>\n      <td>758</td>\n      <td>France</td>\n      <td>Male</td>\n      <td>26</td>\n      <td>4</td>\n      <td>155739.76</td>\n      <td>1</td>\n      <td>1</td>\n      <td>0</td>\n      <td>171552.02</td>\n      <td>0</td>\n    </tr>\n    <tr>\n      <th>9973</th>\n      <td>9974</td>\n      <td>15806455</td>\n      <td>Miller</td>\n      <td>611</td>\n      <td>France</td>\n      <td>Male</td>\n      <td>27</td>\n      <td>7</td>\n      <td>0.00</td>\n      <td>2</td>\n      <td>1</td>\n      <td>1</td>\n      <td>157474.10</td>\n      <td>0</td>\n    </tr>\n    <tr>\n      <th>9974</th>\n      <td>9975</td>\n      <td>15695474</td>\n      <td>Barker</td>\n      <td>583</td>\n      <td>France</td>\n      <td>Male</td>\n      <td>33</td>\n      <td>7</td>\n      <td>122531.86</td>\n      <td>1</td>\n      <td>1</td>\n      <td>0</td>\n      <td>13549.24</td>\n      <td>0</td>\n    </tr>\n    <tr>\n      <th>9975</th>\n      <td>9976</td>\n      <td>15666295</td>\n      <td>Smith</td>\n      <td>610</td>\n      <td>Germany</td>\n      <td>Male</td>\n      <td>50</td>\n      <td>1</td>\n      <td>113957.01</td>\n      <td>2</td>\n      <td>1</td>\n      <td>0</td>\n      <td>196526.55</td>\n      <td>1</td>\n    </tr>\n    <tr>\n      <th>9976</th>\n      <td>9977</td>\n      <td>15656062</td>\n      <td>Azikiwe</td>\n      <td>637</td>\n      <td>France</td>\n      <td>Female</td>\n      <td>33</td>\n      <td>7</td>\n      <td>103377.81</td>\n      <td>1</td>\n      <td>1</td>\n      <td>0</td>\n      <td>84419.78</td>\n      <td>0</td>\n    </tr>\n    <tr>\n      <th>9977</th>\n      <td>9978</td>\n      <td>15579969</td>\n      <td>Mancini</td>\n      <td>683</td>\n      <td>France</td>\n      <td>Female</td>\n      <td>32</td>\n      <td>9</td>\n      <td>0.00</td>\n      <td>2</td>\n      <td>1</td>\n      <td>1</td>\n      <td>24991.92</td>\n      <td>0</td>\n    </tr>\n    <tr>\n      <th>9978</th>\n      <td>9979</td>\n      <td>15703563</td>\n      <td>P'eng</td>\n      <td>774</td>\n      <td>France</td>\n      <td>Male</td>\n      <td>40</td>\n      <td>9</td>\n      <td>93017.47</td>\n      <td>2</td>\n      <td>1</td>\n      <td>0</td>\n      <td>191608.97</td>\n      <td>0</td>\n    </tr>\n    <tr>\n      <th>9979</th>\n      <td>9980</td>\n      <td>15692664</td>\n      <td>Diribe</td>\n      <td>677</td>\n      <td>France</td>\n      <td>Female</td>\n      <td>58</td>\n      <td>1</td>\n      <td>90022.85</td>\n      <td>1</td>\n      <td>0</td>\n      <td>1</td>\n      <td>2988.28</td>\n      <td>0</td>\n    </tr>\n    <tr>\n      <th>9980</th>\n      <td>9981</td>\n      <td>15719276</td>\n      <td>T'ao</td>\n      <td>741</td>\n      <td>Spain</td>\n      <td>Male</td>\n      <td>35</td>\n      <td>6</td>\n      <td>74371.49</td>\n      <td>1</td>\n      <td>0</td>\n      <td>0</td>\n      <td>99595.67</td>\n      <td>0</td>\n    </tr>\n    <tr>\n      <th>9981</th>\n      <td>9982</td>\n      <td>15672754</td>\n      <td>Burbidge</td>\n      <td>498</td>\n      <td>Germany</td>\n      <td>Male</td>\n      <td>42</td>\n      <td>3</td>\n      <td>152039.70</td>\n      <td>1</td>\n      <td>1</td>\n      <td>1</td>\n      <td>53445.17</td>\n      <td>1</td>\n    </tr>\n    <tr>\n      <th>9982</th>\n      <td>9983</td>\n      <td>15768163</td>\n      <td>Griffin</td>\n      <td>655</td>\n      <td>Germany</td>\n      <td>Female</td>\n      <td>46</td>\n      <td>7</td>\n      <td>137145.12</td>\n      <td>1</td>\n      <td>1</td>\n      <td>0</td>\n      <td>115146.40</td>\n      <td>1</td>\n    </tr>\n    <tr>\n      <th>9983</th>\n      <td>9984</td>\n      <td>15656710</td>\n      <td>Cocci</td>\n      <td>613</td>\n      <td>France</td>\n      <td>Male</td>\n      <td>40</td>\n      <td>4</td>\n      <td>0.00</td>\n      <td>1</td>\n      <td>0</td>\n      <td>0</td>\n      <td>151325.24</td>\n      <td>0</td>\n    </tr>\n    <tr>\n      <th>9984</th>\n      <td>9985</td>\n      <td>15696175</td>\n      <td>Echezonachukwu</td>\n      <td>602</td>\n      <td>Germany</td>\n      <td>Male</td>\n      <td>35</td>\n      <td>7</td>\n      <td>90602.42</td>\n      <td>2</td>\n      <td>1</td>\n      <td>1</td>\n      <td>51695.41</td>\n      <td>0</td>\n    </tr>\n    <tr>\n      <th>9985</th>\n      <td>9986</td>\n      <td>15586914</td>\n      <td>Nepean</td>\n      <td>659</td>\n      <td>France</td>\n      <td>Male</td>\n      <td>36</td>\n      <td>6</td>\n      <td>123841.49</td>\n      <td>2</td>\n      <td>1</td>\n      <td>0</td>\n      <td>96833.00</td>\n      <td>0</td>\n    </tr>\n    <tr>\n      <th>9986</th>\n      <td>9987</td>\n      <td>15581736</td>\n      <td>Bartlett</td>\n      <td>673</td>\n      <td>Germany</td>\n      <td>Male</td>\n      <td>47</td>\n      <td>1</td>\n      <td>183579.54</td>\n      <td>2</td>\n      <td>0</td>\n      <td>1</td>\n      <td>34047.54</td>\n      <td>0</td>\n    </tr>\n    <tr>\n      <th>9987</th>\n      <td>9988</td>\n      <td>15588839</td>\n      <td>Mancini</td>\n      <td>606</td>\n      <td>Spain</td>\n      <td>Male</td>\n      <td>30</td>\n      <td>8</td>\n      <td>180307.73</td>\n      <td>2</td>\n      <td>1</td>\n      <td>1</td>\n      <td>1914.41</td>\n      <td>0</td>\n    </tr>\n    <tr>\n      <th>9988</th>\n      <td>9989</td>\n      <td>15589329</td>\n      <td>Pirozzi</td>\n      <td>775</td>\n      <td>France</td>\n      <td>Male</td>\n      <td>30</td>\n      <td>4</td>\n      <td>0.00</td>\n      <td>2</td>\n      <td>1</td>\n      <td>0</td>\n      <td>49337.84</td>\n      <td>0</td>\n    </tr>\n    <tr>\n      <th>9989</th>\n      <td>9990</td>\n      <td>15605622</td>\n      <td>McMillan</td>\n      <td>841</td>\n      <td>Spain</td>\n      <td>Male</td>\n      <td>28</td>\n      <td>4</td>\n      <td>0.00</td>\n      <td>2</td>\n      <td>1</td>\n      <td>1</td>\n      <td>179436.60</td>\n      <td>0</td>\n    </tr>\n    <tr>\n      <th>9990</th>\n      <td>9991</td>\n      <td>15798964</td>\n      <td>Nkemakonam</td>\n      <td>714</td>\n      <td>Germany</td>\n      <td>Male</td>\n      <td>33</td>\n      <td>3</td>\n      <td>35016.60</td>\n      <td>1</td>\n      <td>1</td>\n      <td>0</td>\n      <td>53667.08</td>\n      <td>0</td>\n    </tr>\n    <tr>\n      <th>9991</th>\n      <td>9992</td>\n      <td>15769959</td>\n      <td>Ajuluchukwu</td>\n      <td>597</td>\n      <td>France</td>\n      <td>Female</td>\n      <td>53</td>\n      <td>4</td>\n      <td>88381.21</td>\n      <td>1</td>\n      <td>1</td>\n      <td>0</td>\n      <td>69384.71</td>\n      <td>1</td>\n    </tr>\n    <tr>\n      <th>9992</th>\n      <td>9993</td>\n      <td>15657105</td>\n      <td>Chukwualuka</td>\n      <td>726</td>\n      <td>Spain</td>\n      <td>Male</td>\n      <td>36</td>\n      <td>2</td>\n      <td>0.00</td>\n      <td>1</td>\n      <td>1</td>\n      <td>0</td>\n      <td>195192.40</td>\n      <td>0</td>\n    </tr>\n    <tr>\n      <th>9993</th>\n      <td>9994</td>\n      <td>15569266</td>\n      <td>Rahman</td>\n      <td>644</td>\n      <td>France</td>\n      <td>Male</td>\n      <td>28</td>\n      <td>7</td>\n      <td>155060.41</td>\n      <td>1</td>\n      <td>1</td>\n      <td>0</td>\n      <td>29179.52</td>\n      <td>0</td>\n    </tr>\n    <tr>\n      <th>9994</th>\n      <td>9995</td>\n      <td>15719294</td>\n      <td>Wood</td>\n      <td>800</td>\n      <td>France</td>\n      <td>Female</td>\n      <td>29</td>\n      <td>2</td>\n      <td>0.00</td>\n      <td>2</td>\n      <td>0</td>\n      <td>0</td>\n      <td>167773.55</td>\n      <td>0</td>\n    </tr>\n    <tr>\n      <th>9995</th>\n      <td>9996</td>\n      <td>15606229</td>\n      <td>Obijiaku</td>\n      <td>771</td>\n      <td>France</td>\n      <td>Male</td>\n      <td>39</td>\n      <td>5</td>\n      <td>0.00</td>\n      <td>2</td>\n      <td>1</td>\n      <td>0</td>\n      <td>96270.64</td>\n      <td>0</td>\n    </tr>\n    <tr>\n      <th>9996</th>\n      <td>9997</td>\n      <td>15569892</td>\n      <td>Johnstone</td>\n      <td>516</td>\n      <td>France</td>\n      <td>Male</td>\n      <td>35</td>\n      <td>10</td>\n      <td>57369.61</td>\n      <td>1</td>\n      <td>1</td>\n      <td>1</td>\n      <td>101699.77</td>\n      <td>0</td>\n    </tr>\n    <tr>\n      <th>9997</th>\n      <td>9998</td>\n      <td>15584532</td>\n      <td>Liu</td>\n      <td>709</td>\n      <td>France</td>\n      <td>Female</td>\n      <td>36</td>\n      <td>7</td>\n      <td>0.00</td>\n      <td>1</td>\n      <td>0</td>\n      <td>1</td>\n      <td>42085.58</td>\n      <td>1</td>\n    </tr>\n    <tr>\n      <th>9998</th>\n      <td>9999</td>\n      <td>15682355</td>\n      <td>Sabbatini</td>\n      <td>772</td>\n      <td>Germany</td>\n      <td>Male</td>\n      <td>42</td>\n      <td>3</td>\n      <td>75075.31</td>\n      <td>2</td>\n      <td>1</td>\n      <td>0</td>\n      <td>92888.52</td>\n      <td>1</td>\n    </tr>\n    <tr>\n      <th>9999</th>\n      <td>10000</td>\n      <td>15628319</td>\n      <td>Walker</td>\n      <td>792</td>\n      <td>France</td>\n      <td>Female</td>\n      <td>28</td>\n      <td>4</td>\n      <td>130142.79</td>\n      <td>1</td>\n      <td>1</td>\n      <td>0</td>\n      <td>38190.78</td>\n      <td>0</td>\n    </tr>\n  </tbody>\n</table>\n<p>10000 rows × 14 columns</p>\n</div>"
          },
          "metadata": {}
        }
      ]
    },
    {
      "metadata": {
        "trusted": true,
        "_uuid": "f7c77bca274bd53974bd22b8e730bb6a10b339e3"
      },
      "cell_type": "code",
      "source": "import numpy as np\nX=home_data.iloc[:,3:13].values\nY=home_data.iloc[:,13].values",
      "execution_count": 4,
      "outputs": []
    },
    {
      "metadata": {
        "trusted": true,
        "_uuid": "d87a18090f6ed8c24127d2370d36c8bc364d9deb"
      },
      "cell_type": "code",
      "source": "from sklearn.preprocessing import LabelEncoder,OneHotEncoder\nlabelencoder_X_1=LabelEncoder()\nX[:,1]=labelencoder_X_1.fit_transform(X[:,1])\nlabelencoder_X_2=LabelEncoder()\nX[:,2]=labelencoder_X_2.fit_transform(X[:,2])\nonehotencoder=OneHotEncoder(categorical_features=[1])\nX=onehotencoder.fit_transform(X).toarray()\nX=X[:,1:]",
      "execution_count": 5,
      "outputs": [
        {
          "output_type": "stream",
          "text": "/opt/conda/lib/python3.6/site-packages/sklearn/preprocessing/_encoders.py:368: FutureWarning: The handling of integer data will change in version 0.22. Currently, the categories are determined based on the range [0, max(values)], while in the future they will be determined based on the unique values.\nIf you want the future behaviour and silence this warning, you can specify \"categories='auto'\".\nIn case you used a LabelEncoder before this OneHotEncoder to convert the categories to integers, then you can now use the OneHotEncoder directly.\n  warnings.warn(msg, FutureWarning)\n/opt/conda/lib/python3.6/site-packages/sklearn/preprocessing/_encoders.py:390: DeprecationWarning: The 'categorical_features' keyword is deprecated in version 0.20 and will be removed in 0.22. You can use the ColumnTransformer instead.\n  \"use the ColumnTransformer instead.\", DeprecationWarning)\n",
          "name": "stderr"
        }
      ]
    },
    {
      "metadata": {
        "trusted": true,
        "_uuid": "508df260a8f147af6a24e53f066979d5ddf001f0"
      },
      "cell_type": "code",
      "source": "from sklearn.model_selection import train_test_split\nX_train,X_test,Y_train,Y_test=train_test_split(X,Y,test_size=0.2,random_state=0)",
      "execution_count": 6,
      "outputs": []
    },
    {
      "metadata": {
        "trusted": true,
        "_uuid": "ac08e739b7f28e948932d470636f52b0b2b10b0f"
      },
      "cell_type": "code",
      "source": "from sklearn.preprocessing import StandardScaler\nsc=StandardScaler()\nX_train=sc.fit_transform(X_train)\nX_test=sc.fit_transform(X_test)",
      "execution_count": 7,
      "outputs": []
    },
    {
      "metadata": {
        "trusted": true,
        "_uuid": "e5d060ab25aff6d7bcf8efe025249b420e1269b5"
      },
      "cell_type": "code",
      "source": "import keras\nfrom keras.models import Sequential\nfrom keras.layers import Dense",
      "execution_count": 8,
      "outputs": [
        {
          "output_type": "stream",
          "text": "Using TensorFlow backend.\n",
          "name": "stderr"
        }
      ]
    },
    {
      "metadata": {
        "trusted": true,
        "_uuid": "0d8c8baf42ecdb4637c48c3d6cd017d16264a444"
      },
      "cell_type": "code",
      "source": "classifier=Sequential()",
      "execution_count": 9,
      "outputs": []
    },
    {
      "metadata": {
        "trusted": true,
        "_uuid": "99ed4197f708f868e9003b36bb71fe22526a1b16"
      },
      "cell_type": "code",
      "source": "classifier.add(Dense(output_dim=6, init='uniform',activation='relu',input_dim=11)) \nclassifier.add(Dense(output_dim=6, init='uniform',activation='relu')) \nclassifier.add(Dense(output_dim=1, init='uniform',activation='sigmoid'))\nclassifier.compile(optimizer='adam',loss='binary_crossentropy',metrics=['accuracy'])",
      "execution_count": 10,
      "outputs": [
        {
          "output_type": "stream",
          "text": "/opt/conda/lib/python3.6/site-packages/ipykernel_launcher.py:1: UserWarning: Update your `Dense` call to the Keras 2 API: `Dense(activation=\"relu\", input_dim=11, units=6, kernel_initializer=\"uniform\")`\n  \"\"\"Entry point for launching an IPython kernel.\n/opt/conda/lib/python3.6/site-packages/ipykernel_launcher.py:2: UserWarning: Update your `Dense` call to the Keras 2 API: `Dense(activation=\"relu\", units=6, kernel_initializer=\"uniform\")`\n  \n/opt/conda/lib/python3.6/site-packages/ipykernel_launcher.py:3: UserWarning: Update your `Dense` call to the Keras 2 API: `Dense(activation=\"sigmoid\", units=1, kernel_initializer=\"uniform\")`\n  This is separate from the ipykernel package so we can avoid doing imports until\n",
          "name": "stderr"
        }
      ]
    },
    {
      "metadata": {
        "trusted": true,
        "_uuid": "98145dccca9eb59649bcfc294ba004d766086f1a"
      },
      "cell_type": "code",
      "source": "classifier.fit(X_train,Y_train,batch_size=10,nb_epoch=100)",
      "execution_count": 11,
      "outputs": [
        {
          "output_type": "stream",
          "text": "/opt/conda/lib/python3.6/site-packages/ipykernel_launcher.py:1: UserWarning: The `nb_epoch` argument in `fit` has been renamed `epochs`.\n  \"\"\"Entry point for launching an IPython kernel.\n",
          "name": "stderr"
        },
        {
          "output_type": "stream",
          "text": "Epoch 1/100\n8000/8000 [==============================] - 4s 538us/step - loss: 0.4851 - acc: 0.7952\nEpoch 2/100\n8000/8000 [==============================] - 3s 431us/step - loss: 0.4303 - acc: 0.7960\nEpoch 3/100\n8000/8000 [==============================] - 3s 428us/step - loss: 0.4256 - acc: 0.7960\nEpoch 4/100\n8000/8000 [==============================] - 3s 428us/step - loss: 0.4209 - acc: 0.8091\nEpoch 5/100\n8000/8000 [==============================] - 3s 430us/step - loss: 0.4171 - acc: 0.8250\nEpoch 6/100\n8000/8000 [==============================] - 3s 420us/step - loss: 0.4154 - acc: 0.8280\nEpoch 7/100\n8000/8000 [==============================] - 3s 430us/step - loss: 0.4141 - acc: 0.8297\nEpoch 8/100\n8000/8000 [==============================] - 3s 419us/step - loss: 0.4128 - acc: 0.8330\nEpoch 9/100\n8000/8000 [==============================] - 3s 431us/step - loss: 0.4113 - acc: 0.8315\nEpoch 10/100\n8000/8000 [==============================] - 3s 420us/step - loss: 0.4106 - acc: 0.8330\nEpoch 11/100\n8000/8000 [==============================] - 3s 419us/step - loss: 0.4096 - acc: 0.8326\nEpoch 12/100\n8000/8000 [==============================] - 3s 425us/step - loss: 0.4093 - acc: 0.8336\nEpoch 13/100\n8000/8000 [==============================] - 3s 427us/step - loss: 0.4086 - acc: 0.8330\nEpoch 14/100\n8000/8000 [==============================] - 3s 427us/step - loss: 0.4082 - acc: 0.8351\nEpoch 15/100\n8000/8000 [==============================] - 3s 435us/step - loss: 0.4078 - acc: 0.8329\nEpoch 16/100\n8000/8000 [==============================] - 3s 436us/step - loss: 0.4070 - acc: 0.8321\nEpoch 17/100\n8000/8000 [==============================] - 3s 425us/step - loss: 0.4067 - acc: 0.8349\nEpoch 18/100\n8000/8000 [==============================] - 3s 415us/step - loss: 0.4059 - acc: 0.8332\nEpoch 19/100\n8000/8000 [==============================] - 3s 425us/step - loss: 0.4066 - acc: 0.8332\nEpoch 20/100\n8000/8000 [==============================] - 4s 438us/step - loss: 0.4055 - acc: 0.8349\nEpoch 21/100\n8000/8000 [==============================] - 4s 438us/step - loss: 0.4057 - acc: 0.8345\nEpoch 22/100\n8000/8000 [==============================] - 3s 433us/step - loss: 0.4051 - acc: 0.8350\nEpoch 23/100\n8000/8000 [==============================] - 3s 428us/step - loss: 0.4054 - acc: 0.8339\nEpoch 24/100\n8000/8000 [==============================] - 3s 414us/step - loss: 0.4047 - acc: 0.8336\nEpoch 25/100\n8000/8000 [==============================] - 3s 425us/step - loss: 0.4049 - acc: 0.8351\nEpoch 26/100\n8000/8000 [==============================] - 3s 425us/step - loss: 0.4041 - acc: 0.8327\nEpoch 27/100\n8000/8000 [==============================] - 3s 416us/step - loss: 0.4038 - acc: 0.8339\nEpoch 28/100\n8000/8000 [==============================] - 3s 415us/step - loss: 0.4040 - acc: 0.8326\nEpoch 29/100\n8000/8000 [==============================] - 3s 414us/step - loss: 0.4037 - acc: 0.8346\nEpoch 30/100\n8000/8000 [==============================] - 3s 412us/step - loss: 0.4036 - acc: 0.8339\nEpoch 31/100\n8000/8000 [==============================] - 3s 410us/step - loss: 0.4034 - acc: 0.8335\nEpoch 32/100\n8000/8000 [==============================] - 3s 416us/step - loss: 0.4029 - acc: 0.8354\nEpoch 33/100\n8000/8000 [==============================] - 3s 408us/step - loss: 0.4031 - acc: 0.8351\nEpoch 34/100\n8000/8000 [==============================] - 3s 415us/step - loss: 0.4028 - acc: 0.8341\nEpoch 35/100\n8000/8000 [==============================] - 4s 439us/step - loss: 0.4029 - acc: 0.8350\nEpoch 36/100\n8000/8000 [==============================] - 3s 423us/step - loss: 0.4026 - acc: 0.8341\nEpoch 37/100\n8000/8000 [==============================] - 3s 415us/step - loss: 0.4025 - acc: 0.8355\nEpoch 38/100\n8000/8000 [==============================] - 3s 421us/step - loss: 0.4022 - acc: 0.8349\nEpoch 39/100\n8000/8000 [==============================] - 3s 419us/step - loss: 0.4018 - acc: 0.8349\nEpoch 40/100\n8000/8000 [==============================] - 3s 426us/step - loss: 0.4019 - acc: 0.8352\nEpoch 41/100\n8000/8000 [==============================] - 3s 416us/step - loss: 0.4017 - acc: 0.8344\nEpoch 42/100\n8000/8000 [==============================] - 3s 420us/step - loss: 0.4021 - acc: 0.8355\nEpoch 43/100\n8000/8000 [==============================] - 3s 427us/step - loss: 0.4017 - acc: 0.8340\nEpoch 44/100\n8000/8000 [==============================] - 3s 425us/step - loss: 0.4018 - acc: 0.8346\nEpoch 45/100\n8000/8000 [==============================] - 3s 425us/step - loss: 0.4016 - acc: 0.8349\nEpoch 46/100\n8000/8000 [==============================] - 3s 427us/step - loss: 0.4014 - acc: 0.8336\nEpoch 47/100\n8000/8000 [==============================] - 3s 426us/step - loss: 0.4018 - acc: 0.8339\nEpoch 48/100\n8000/8000 [==============================] - 3s 430us/step - loss: 0.4015 - acc: 0.8355\nEpoch 49/100\n8000/8000 [==============================] - 3s 425us/step - loss: 0.4017 - acc: 0.8346\nEpoch 50/100\n8000/8000 [==============================] - 3s 427us/step - loss: 0.4013 - acc: 0.8352\nEpoch 51/100\n8000/8000 [==============================] - 3s 431us/step - loss: 0.4011 - acc: 0.8331\nEpoch 52/100\n8000/8000 [==============================] - 3s 427us/step - loss: 0.4011 - acc: 0.8350\nEpoch 53/100\n8000/8000 [==============================] - 3s 421us/step - loss: 0.4013 - acc: 0.8356\nEpoch 54/100\n8000/8000 [==============================] - 4s 438us/step - loss: 0.4012 - acc: 0.8347\nEpoch 55/100\n8000/8000 [==============================] - 3s 432us/step - loss: 0.4011 - acc: 0.8356\nEpoch 56/100\n8000/8000 [==============================] - 3s 419us/step - loss: 0.4012 - acc: 0.8346\nEpoch 57/100\n8000/8000 [==============================] - 3s 423us/step - loss: 0.4011 - acc: 0.8341\nEpoch 58/100\n8000/8000 [==============================] - 3s 421us/step - loss: 0.4013 - acc: 0.8350\nEpoch 59/100\n8000/8000 [==============================] - 3s 425us/step - loss: 0.4007 - acc: 0.8345\nEpoch 60/100\n8000/8000 [==============================] - 3s 428us/step - loss: 0.4009 - acc: 0.8347\nEpoch 61/100\n8000/8000 [==============================] - 3s 427us/step - loss: 0.4010 - acc: 0.8334\nEpoch 62/100\n8000/8000 [==============================] - 3s 428us/step - loss: 0.4011 - acc: 0.8354\nEpoch 63/100\n8000/8000 [==============================] - 3s 418us/step - loss: 0.4011 - acc: 0.8362\nEpoch 64/100\n8000/8000 [==============================] - 3s 412us/step - loss: 0.4011 - acc: 0.8356\nEpoch 65/100\n8000/8000 [==============================] - 3s 407us/step - loss: 0.4005 - acc: 0.8355\nEpoch 66/100\n8000/8000 [==============================] - 3s 413us/step - loss: 0.4012 - acc: 0.8352\nEpoch 67/100\n8000/8000 [==============================] - 3s 407us/step - loss: 0.4008 - acc: 0.8351\nEpoch 68/100\n8000/8000 [==============================] - 3s 406us/step - loss: 0.4009 - acc: 0.8360\nEpoch 69/100\n8000/8000 [==============================] - 3s 413us/step - loss: 0.4000 - acc: 0.8349\nEpoch 70/100\n8000/8000 [==============================] - 3s 407us/step - loss: 0.4010 - acc: 0.8352\nEpoch 71/100\n8000/8000 [==============================] - 3s 420us/step - loss: 0.4010 - acc: 0.8350\nEpoch 72/100\n8000/8000 [==============================] - 3s 426us/step - loss: 0.4009 - acc: 0.8344\nEpoch 73/100\n8000/8000 [==============================] - 3s 426us/step - loss: 0.4009 - acc: 0.8360\nEpoch 74/100\n8000/8000 [==============================] - 3s 425us/step - loss: 0.4006 - acc: 0.8352\nEpoch 75/100\n8000/8000 [==============================] - 3s 434us/step - loss: 0.4007 - acc: 0.8346\nEpoch 76/100\n8000/8000 [==============================] - 3s 424us/step - loss: 0.4012 - acc: 0.8351\nEpoch 77/100\n8000/8000 [==============================] - 3s 423us/step - loss: 0.4003 - acc: 0.8342\nEpoch 78/100\n8000/8000 [==============================] - 3s 429us/step - loss: 0.4009 - acc: 0.8359\nEpoch 79/100\n8000/8000 [==============================] - 3s 426us/step - loss: 0.4012 - acc: 0.8344\nEpoch 80/100\n8000/8000 [==============================] - 3s 425us/step - loss: 0.4006 - acc: 0.8345\nEpoch 81/100\n8000/8000 [==============================] - 3s 423us/step - loss: 0.4002 - acc: 0.8345\nEpoch 82/100\n",
          "name": "stdout"
        },
        {
          "output_type": "stream",
          "text": "8000/8000 [==============================] - 3s 419us/step - loss: 0.4008 - acc: 0.8360\nEpoch 83/100\n8000/8000 [==============================] - 3s 421us/step - loss: 0.4007 - acc: 0.8367\nEpoch 84/100\n8000/8000 [==============================] - 3s 427us/step - loss: 0.4007 - acc: 0.8351\nEpoch 85/100\n8000/8000 [==============================] - 3s 420us/step - loss: 0.4004 - acc: 0.8345\nEpoch 86/100\n8000/8000 [==============================] - 3s 421us/step - loss: 0.4007 - acc: 0.8350\nEpoch 87/100\n8000/8000 [==============================] - 3s 419us/step - loss: 0.4006 - acc: 0.8355\nEpoch 88/100\n8000/8000 [==============================] - 3s 424us/step - loss: 0.4005 - acc: 0.8356\nEpoch 89/100\n8000/8000 [==============================] - 3s 424us/step - loss: 0.4007 - acc: 0.8362\nEpoch 90/100\n8000/8000 [==============================] - 3s 415us/step - loss: 0.4006 - acc: 0.8355\nEpoch 91/100\n8000/8000 [==============================] - 3s 417us/step - loss: 0.4006 - acc: 0.8357\nEpoch 92/100\n8000/8000 [==============================] - 3s 417us/step - loss: 0.4005 - acc: 0.8354\nEpoch 93/100\n8000/8000 [==============================] - 3s 413us/step - loss: 0.4006 - acc: 0.8357\nEpoch 94/100\n8000/8000 [==============================] - 3s 413us/step - loss: 0.4002 - acc: 0.8369\nEpoch 95/100\n8000/8000 [==============================] - 3s 416us/step - loss: 0.4001 - acc: 0.8355\nEpoch 96/100\n8000/8000 [==============================] - 3s 409us/step - loss: 0.4004 - acc: 0.8341\nEpoch 97/100\n8000/8000 [==============================] - 3s 417us/step - loss: 0.4005 - acc: 0.8370\nEpoch 98/100\n8000/8000 [==============================] - 3s 412us/step - loss: 0.4005 - acc: 0.8351\nEpoch 99/100\n8000/8000 [==============================] - 3s 408us/step - loss: 0.4002 - acc: 0.8345\nEpoch 100/100\n8000/8000 [==============================] - 3s 406us/step - loss: 0.4007 - acc: 0.8342\n",
          "name": "stdout"
        },
        {
          "output_type": "execute_result",
          "execution_count": 11,
          "data": {
            "text/plain": "<keras.callbacks.History at 0x7fea8156add8>"
          },
          "metadata": {}
        }
      ]
    },
    {
      "metadata": {
        "trusted": true,
        "_uuid": "f410b9dd835ddf56341140ae84f406016a775b7a"
      },
      "cell_type": "code",
      "source": "y_pred=classifier.predict(X_test)\ny_pred=(y_pred>0.5)\ny_pred",
      "execution_count": 12,
      "outputs": [
        {
          "output_type": "execute_result",
          "execution_count": 12,
          "data": {
            "text/plain": "array([[False],\n       [False],\n       [False],\n       ...,\n       [False],\n       [False],\n       [False]])"
          },
          "metadata": {}
        }
      ]
    },
    {
      "metadata": {
        "trusted": true,
        "_uuid": "8825e623a6444ebbe2dd4bad8094d9b67cf2d070"
      },
      "cell_type": "code",
      "source": "from sklearn.metrics import confusion_matrix\nconfusion_matrix(Y_test,y_pred)",
      "execution_count": 13,
      "outputs": [
        {
          "output_type": "execute_result",
          "execution_count": 13,
          "data": {
            "text/plain": "array([[1547,   48],\n       [ 268,  137]])"
          },
          "metadata": {}
        }
      ]
    },
    {
      "metadata": {
        "trusted": true,
        "_uuid": "92669c4faa28538efced7c1c3d1080ce820a2ee7"
      },
      "cell_type": "code",
      "source": "(1547+137)/2000",
      "execution_count": null,
      "outputs": []
    },
    {
      "metadata": {
        "trusted": true,
        "_uuid": "d1612f07de0596e661ea5aa6ff8e59b217c03331"
      },
      "cell_type": "code",
      "source": "",
      "execution_count": null,
      "outputs": []
    }
  ],
  "metadata": {
    "kernelspec": {
      "display_name": "Python 3",
      "language": "python",
      "name": "python3"
    },
    "language_info": {
      "name": "python",
      "version": "3.6.6",
      "mimetype": "text/x-python",
      "codemirror_mode": {
        "name": "ipython",
        "version": 3
      },
      "pygments_lexer": "ipython3",
      "nbconvert_exporter": "python",
      "file_extension": ".py"
    }
  },
  "nbformat": 4,
  "nbformat_minor": 1
}